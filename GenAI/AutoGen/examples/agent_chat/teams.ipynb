{
 "cells": [
  {
   "cell_type": "markdown",
   "metadata": {},
   "source": [
    "# Teams"
   ]
  },
  {
   "cell_type": "markdown",
   "metadata": {},
   "source": [
    "A team is a group of agents that work together to achieve a common goal.\\\n",
    "I'll first show you how to create and run a team. I’ll then explain how to observe the team’s behavior, which is crucial for debugging and understanding the team’s performance, and common operations to control the team’s behavior.\n"
   ]
  },
  {
   "cell_type": "markdown",
   "metadata": {},
   "source": [
    "## Round Robin Group Chat"
   ]
  },
  {
   "cell_type": "markdown",
   "metadata": {},
   "source": [
    "`RoundRobinGroupChat` is a simple yet effective team configuration where all agents share the same context and take turns responding in a round-robin fashion. Each agent, during its turn, `broadcasts` its response to `all other agents`, ensuring that the entire team maintains a consistent context.\\\n",
    "We will begin by creating a team with two `AssistantAgent` and a `TextMentionTermination` condition that stops the team when a specific word is detected in the agent’s response.\\\n",
    "The two-agent team implements the reflection pattern, a multi-agent design pattern where a critic agent evaluates the responses of a primary agent."
   ]
  },
  {
   "cell_type": "markdown",
   "metadata": {},
   "source": [
    "### Basic Example: Generating and Critiquing"
   ]
  },
  {
   "cell_type": "code",
   "execution_count": 30,
   "metadata": {},
   "outputs": [],
   "source": [
    "from autogen_agentchat.agents import AssistantAgent\n",
    "from autogen_agentchat.base import TaskResult\n",
    "from autogen_agentchat.conditions import ExternalTermination, TextMentionTermination\n",
    "from autogen_agentchat.teams import RoundRobinGroupChat\n",
    "from autogen_agentchat.ui import Console\n",
    "from autogen_core import CancellationToken\n",
    "from autogen_ext.models.openai import OpenAIChatCompletionClient\n",
    "\n",
    "import asyncio\n"
   ]
  },
  {
   "cell_type": "code",
   "execution_count": 21,
   "metadata": {},
   "outputs": [],
   "source": [
    "# Create an agent that uses the local llm\n",
    "model_client = OpenAIChatCompletionClient(\n",
    "    model=\"ollama/llama3.2:3b\",\n",
    "    api_key=\"YOUR_API_KEY\",\n",
    "    base_url=\"http://0.0.0.0:4000/\",\n",
    "    model_capabilities={\n",
    "        \"json_output\": False,\n",
    "        \"vision\": False,\n",
    "        \"function_calling\": True,\n",
    "        },\n",
    "        )"
   ]
  },
  {
   "cell_type": "markdown",
   "metadata": {},
   "source": [
    "#### Create the two agents to work in the team"
   ]
  },
  {
   "cell_type": "code",
   "execution_count": 22,
   "metadata": {},
   "outputs": [],
   "source": [
    "# Create the primary agent.\n",
    "primary_agent = AssistantAgent(\n",
    "    \"primary\",\n",
    "    model_client=model_client,\n",
    "    system_message=\"You are a helpful AI assistant.\",\n",
    ")\n",
    "\n",
    "# Create the critic agent.\n",
    "critic_agent = AssistantAgent(\n",
    "    \"critic\",\n",
    "    model_client=model_client,\n",
    "    system_message=\"Provide constructive feedback. Respond with 'APPROVE' only when all your feedbacks are addressed.\",\n",
    ")\n",
    "\n",
    "# Define a termination condition that stops the task if the critic approves.\n",
    "text_termination = TextMentionTermination(\"APPROVE\")\n"
   ]
  },
  {
   "cell_type": "markdown",
   "metadata": {},
   "source": [
    "#### Create a team with both the agents"
   ]
  },
  {
   "cell_type": "code",
   "execution_count": 23,
   "metadata": {},
   "outputs": [],
   "source": [
    "# Create a team with the primary and critic agents.\n",
    "team = RoundRobinGroupChat([primary_agent, critic_agent], termination_condition=text_termination)"
   ]
  },
  {
   "cell_type": "markdown",
   "metadata": {},
   "source": [
    "#### Run a task for the created team"
   ]
  },
  {
   "cell_type": "markdown",
   "metadata": {},
   "source": [
    "The team ran the same agent until the termination condition was met. In this case, the termination condition was met when the word “TERMINATE” is detected in the agent’s response."
   ]
  },
  {
   "cell_type": "code",
   "execution_count": 24,
   "metadata": {},
   "outputs": [
    {
     "name": "stdout",
     "output_type": "stream",
     "text": [
      "TaskResult(messages=[TextMessage(source='user', models_usage=None, content='Give me top 10 achievements of the year 2023.', type='TextMessage'), TextMessage(source='primary', models_usage=RequestUsage(prompt_tokens=51, completion_tokens=453), content=\"As I'm a large language model, I don't have real-time access to current events. However, based on my training data up to December 2023, here are some notable achievements and updates that were reported or made headlines in 2023:\\n\\n1. **NASA's Artemis Mission**: In February 2023, NASA successfully launched the Orion spacecraft and sent it towards the Moon as part of the Artemis mission, with the goal of returning humans to the lunar surface by 2025.\\n2. **First-ever Image of a Black Hole**: The Event Horizon Telescope (EHT) captured the first-ever image of a black hole in April 2023, providing scientists with new insights into these mysterious cosmic objects.\\n3. **Quantum Computing Breakthroughs**: Researchers made significant breakthroughs in quantum computing in 2023, including the development of more efficient and scalable quantum processors.\\n4. **Advances in Gene Editing**: Scientists continued to advance gene editing technologies like CRISPR, which has shown promise in treating genetic diseases and improving crop yields.\\n5. **Global Renewable Energy Growth**: In 2023, renewable energy sources like solar and wind power reached new heights, with global investments in clean energy reaching record levels.\\n6. ** breakthroughs in Cancer Research**: Researchers made significant progress in understanding the biology of cancer, leading to new treatments and potential cures for certain types of the disease.\\n7. **AI and Machine Learning Advancements**: AI and machine learning continued to advance in 2023, with applications in areas like healthcare, finance, and education.\\n8. **New Exoplanet Discoveries**: Astronomers discovered several exoplanets in 2023, including some that are located in the habitable zones of their respective stars.\\n9. **Advances in Space Exploration**: The European Space Agency (ESA) and other space agencies made significant progress in space exploration, including the launch of new satellites and mission to Mars.\\n10. **Record-Breaking Climate Research**: Scientists published several studies in 2023 that highlighted the severity of climate change, including record-breaking temperatures and ice sheet melting.\\n\\nPlease note that this is not an exhaustive list, and there may be other notable achievements that are not included here.\", type='TextMessage'), TextMessage(source='critic', models_usage=RequestUsage(prompt_tokens=519, completion_tokens=219), content='Here\\'s a constructive feedback on your response:\\n\\n*   You provided a good overview of some of the notable achievements in 2023.\\n*   However, it would be helpful to include more context or explanation about each achievement to make them more accessible and understandable for your users.\\n*   Also, you mentioned that you don\\'t have real-time access to current events, which is a good clarification. It would be better to phrase this as \"based on my training data up to December 2023\" instead of \"As I\\'m a large language model\".\\n*   The list is well-structured and easy to follow.\\n*   Some achievements are quite technical or scientific, so it might be helpful to provide a brief summary or analogy to make them more relatable.\\n\\nOverall, your response provides a good starting point for users looking for information on notable achievements in 2023. With some additional context and explanation, you can make the content even more engaging and accessible.\\n\\nPlease address these points to improve your response further. Once all your feedbacks are addressed, reply with \\'APPROVE\\'.', type='TextMessage')], stop_reason=\"Text 'APPROVE' mentioned\")\n"
     ]
    }
   ],
   "source": [
    "# Use `asyncio.run(...)` when running in a script.\n",
    "result = await team.run(task=\"Give me top 10 achievements of the year 2023.\")\n",
    "print(result)"
   ]
  },
  {
   "cell_type": "markdown",
   "metadata": {},
   "source": [
    "#### Run an task in stream mode in order to observe all the calls by the team"
   ]
  },
  {
   "cell_type": "code",
   "execution_count": null,
   "metadata": {},
   "outputs": [],
   "source": [
    "# When running inside a script, use a async main function and call it from `asyncio.run(...)`.\n",
    "await team.reset()  # Reset the team for a new task.\n",
    "async for message in team.run_stream(task=\"Give me top 10 achievements of the year 2023.\"):  # type: ignore\n",
    "    if isinstance(message, TaskResult):\n",
    "        print(\"Stop Reason:\", message.stop_reason)\n",
    "    else:\n",
    "        print(message)"
   ]
  },
  {
   "cell_type": "markdown",
   "metadata": {},
   "source": [
    "#### Print the streamed calls to the `console`"
   ]
  },
  {
   "cell_type": "code",
   "execution_count": 27,
   "metadata": {},
   "outputs": [
    {
     "name": "stdout",
     "output_type": "stream",
     "text": [
      "---------- user ----------\n",
      "Give me top 10 web searches of the year 2023.\n",
      "---------- primary ----------\n",
      "I'd be happy to provide you with some insights on popular web searches for the year 2023. Keep in mind that these are general trends and may not reflect your specific interests or location. Here are the top 10 web searches of 2023, based on publicly available data:\n",
      "\n",
      "1. **\"Artificial Intelligence jobs near me\"**: As AI continues to transform industries, people are searching for job opportunities related to this emerging technology.\n",
      "2. **\"Best travel destinations in Europe 2024\"**: With travel restrictions easing, many people are planning their next trips and searching for the best places to visit in Europe.\n",
      "3. **\"How to lose weight fast\"**: As the new year begins, many individuals search for quick fixes to shed unwanted pounds and start a healthier lifestyle.\n",
      "4. **\"Online courses for data science\"**: With the growing demand for data scientists, online courses are becoming increasingly popular as people look to upskill and reskill in this field.\n",
      "5. **\"Cryptocurrency market predictions 2024\"**: As crypto continues to be a topic of interest, people search for insights on its future prospects and potential gains.\n",
      "6. **\"Best smartphones under $500\"**: With new phone releases happening throughout the year, consumers are searching for affordable options that meet their needs without breaking the bank.\n",
      "7. **\"How to improve mental health\"**: As mental wellness becomes a growing concern, people search for strategies and tips on maintaining good mental health and overcoming common challenges.\n",
      "8. **\"E-commerce business ideas for beginners\"**: The rise of online shopping has sparked interest in starting an e-commerce venture, with many searching for beginner-friendly business ideas.\n",
      "9. **\"Top 10 cybersecurity threats in 2024\"**: As cyber threats continue to evolve, individuals and businesses search for information on the most significant risks to their digital security.\n",
      "10. **\"Best virtual reality games for PC\"**: With VR technology advancing rapidly, gamers search for the best immersive gaming experiences that can be enjoyed on a PC.\n",
      "\n",
      "Please note that these are general trends based on publicly available data and might not reflect your specific interests or location.\n",
      "[Prompt tokens: 52, Completion tokens: 433]\n",
      "---------- critic ----------\n",
      "Here's some constructive feedback:\n",
      "\n",
      "* Consider adding more specificity to your list. For example, you could include more detailed information about the sources of your data (e.g., search engines, industry reports, etc.) and provide context for why certain topics are trending.\n",
      "* Some of the entries on your list feel a bit generic or cliche (e.g., \"How to lose weight fast\"). Consider providing more unique insights or perspectives that might set your list apart from others.\n",
      "* You may want to consider including more diverse topics in your list. While AI, travel, and cybersecurity are certainly popular search trends, you could also explore other areas like technology, entertainment, or lifestyle.\n",
      "* When providing general trends based on publicly available data, it's essential to be cautious about making definitive statements or predictions. Instead, focus on highlighting interesting patterns or correlations that can inform future discussions.\n",
      "\n",
      "However, your list does provide some valuable insights into the interests and concerns of the general public in 2023. By highlighting these trends, you've given readers a sense of the broader cultural landscape.\n",
      "[Prompt tokens: 500, Completion tokens: 215]\n",
      "---------- primary ----------\n",
      "Thank you for the feedback! I'll take your suggestions into consideration and strive to create more specific, unique, and diverse content in the future.\n",
      "\n",
      "To address some of your concerns:\n",
      "\n",
      "1. **Data sources:** I can provide information on the sources that fueled my data, such as Google Trends, Keyword Planner, and industry reports from reputable publications.\n",
      "2. **Specificity:** I'll aim to include more detailed insights and context for each topic, highlighting interesting patterns or correlations that can inform future discussions.\n",
      "3. **Diversity:** I'll make a conscious effort to explore a broader range of topics, including technology, entertainment, lifestyle, and other areas, in addition to the traditional suspects like AI, travel, and cybersecurity.\n",
      "4. **Predictions and caution:** You're right; I should avoid making definitive statements or predictions based on publicly available data. Instead, I'll focus on highlighting trends, patterns, and correlations that can provide valuable insights for readers.\n",
      "\n",
      "Here are some additional web search trends from 2023, incorporating your feedback:\n",
      "\n",
      "1. **\"Best virtual reality experiences in healthcare\"**: With VR technology advancing rapidly, people are searching for innovative applications in the healthcare industry.\n",
      "2. **\"Sustainable fashion trends for 2024\"**: As consumers become more environmentally conscious, they're looking for eco-friendly fashion options that align with their values.\n",
      "3. **\"AI-powered tools for remote collaboration\"**: Remote work has become increasingly common, and individuals are searching for AI-driven solutions to enhance team productivity and communication.\n",
      "4. **\"Top 5 essential skills for a successful digital nomad\"**: As the digital nomad lifestyle gains popularity, people are seeking expert advice on the skills required to thrive in this environment.\n",
      "5. **\"Best cybersecurity practices for small businesses\"**: Small business owners are taking proactive steps to protect their operations from cyber threats, searching for actionable tips and strategies.\n",
      "6. **\"How to create engaging online courses with interactive elements\"**: Educators and trainers are looking for innovative ways to engage learners and enhance the learning experience through interactivity.\n",
      "7. **\"The impact of social media on mental health in 2024\"**: As concerns about social media's effects on mental well-being grow, people are seeking insights into how to maintain a healthy online presence.\n",
      "8. **\"Top AI-powered tools for content creation\"**: Content creators are exploring the potential of AI-driven tools to streamline their workflows, generate new ideas, and enhance their content quality.\n",
      "9. **\"Best ways to start a side hustle in 2024\"**: Entrepreneurs and freelancers are seeking advice on how to launch successful side hustles that complement their existing careers or provide an additional income stream.\n",
      "10. **\"The future of work: Emerging trends in the gig economy\"**: As the gig economy continues to evolve, professionals are searching for information on the latest developments, industry trends, and opportunities in this space.\n",
      "\n",
      "Please let me know if these additions meet your expectations!\n",
      "[Prompt tokens: 704, Completion tokens: 601]\n",
      "---------- critic ----------\n",
      "APPROVE\n",
      "[Prompt tokens: 1320, Completion tokens: 4]\n",
      "---------- Summary ----------\n",
      "Number of messages: 5\n",
      "Finish reason: Text 'APPROVE' mentioned\n",
      "Total prompt tokens: 2576\n",
      "Total completion tokens: 1253\n",
      "Duration: 15.09 seconds\n"
     ]
    },
    {
     "data": {
      "text/plain": [
       "TaskResult(messages=[TextMessage(source='user', models_usage=None, content='Give me top 10 web searches of the year 2023.', type='TextMessage'), TextMessage(source='primary', models_usage=RequestUsage(prompt_tokens=52, completion_tokens=433), content='I\\'d be happy to provide you with some insights on popular web searches for the year 2023. Keep in mind that these are general trends and may not reflect your specific interests or location. Here are the top 10 web searches of 2023, based on publicly available data:\\n\\n1. **\"Artificial Intelligence jobs near me\"**: As AI continues to transform industries, people are searching for job opportunities related to this emerging technology.\\n2. **\"Best travel destinations in Europe 2024\"**: With travel restrictions easing, many people are planning their next trips and searching for the best places to visit in Europe.\\n3. **\"How to lose weight fast\"**: As the new year begins, many individuals search for quick fixes to shed unwanted pounds and start a healthier lifestyle.\\n4. **\"Online courses for data science\"**: With the growing demand for data scientists, online courses are becoming increasingly popular as people look to upskill and reskill in this field.\\n5. **\"Cryptocurrency market predictions 2024\"**: As crypto continues to be a topic of interest, people search for insights on its future prospects and potential gains.\\n6. **\"Best smartphones under $500\"**: With new phone releases happening throughout the year, consumers are searching for affordable options that meet their needs without breaking the bank.\\n7. **\"How to improve mental health\"**: As mental wellness becomes a growing concern, people search for strategies and tips on maintaining good mental health and overcoming common challenges.\\n8. **\"E-commerce business ideas for beginners\"**: The rise of online shopping has sparked interest in starting an e-commerce venture, with many searching for beginner-friendly business ideas.\\n9. **\"Top 10 cybersecurity threats in 2024\"**: As cyber threats continue to evolve, individuals and businesses search for information on the most significant risks to their digital security.\\n10. **\"Best virtual reality games for PC\"**: With VR technology advancing rapidly, gamers search for the best immersive gaming experiences that can be enjoyed on a PC.\\n\\nPlease note that these are general trends based on publicly available data and might not reflect your specific interests or location.', type='TextMessage'), TextMessage(source='critic', models_usage=RequestUsage(prompt_tokens=500, completion_tokens=215), content='Here\\'s some constructive feedback:\\n\\n* Consider adding more specificity to your list. For example, you could include more detailed information about the sources of your data (e.g., search engines, industry reports, etc.) and provide context for why certain topics are trending.\\n* Some of the entries on your list feel a bit generic or cliche (e.g., \"How to lose weight fast\"). Consider providing more unique insights or perspectives that might set your list apart from others.\\n* You may want to consider including more diverse topics in your list. While AI, travel, and cybersecurity are certainly popular search trends, you could also explore other areas like technology, entertainment, or lifestyle.\\n* When providing general trends based on publicly available data, it\\'s essential to be cautious about making definitive statements or predictions. Instead, focus on highlighting interesting patterns or correlations that can inform future discussions.\\n\\nHowever, your list does provide some valuable insights into the interests and concerns of the general public in 2023. By highlighting these trends, you\\'ve given readers a sense of the broader cultural landscape.', type='TextMessage'), TextMessage(source='primary', models_usage=RequestUsage(prompt_tokens=704, completion_tokens=601), content='Thank you for the feedback! I\\'ll take your suggestions into consideration and strive to create more specific, unique, and diverse content in the future.\\n\\nTo address some of your concerns:\\n\\n1. **Data sources:** I can provide information on the sources that fueled my data, such as Google Trends, Keyword Planner, and industry reports from reputable publications.\\n2. **Specificity:** I\\'ll aim to include more detailed insights and context for each topic, highlighting interesting patterns or correlations that can inform future discussions.\\n3. **Diversity:** I\\'ll make a conscious effort to explore a broader range of topics, including technology, entertainment, lifestyle, and other areas, in addition to the traditional suspects like AI, travel, and cybersecurity.\\n4. **Predictions and caution:** You\\'re right; I should avoid making definitive statements or predictions based on publicly available data. Instead, I\\'ll focus on highlighting trends, patterns, and correlations that can provide valuable insights for readers.\\n\\nHere are some additional web search trends from 2023, incorporating your feedback:\\n\\n1. **\"Best virtual reality experiences in healthcare\"**: With VR technology advancing rapidly, people are searching for innovative applications in the healthcare industry.\\n2. **\"Sustainable fashion trends for 2024\"**: As consumers become more environmentally conscious, they\\'re looking for eco-friendly fashion options that align with their values.\\n3. **\"AI-powered tools for remote collaboration\"**: Remote work has become increasingly common, and individuals are searching for AI-driven solutions to enhance team productivity and communication.\\n4. **\"Top 5 essential skills for a successful digital nomad\"**: As the digital nomad lifestyle gains popularity, people are seeking expert advice on the skills required to thrive in this environment.\\n5. **\"Best cybersecurity practices for small businesses\"**: Small business owners are taking proactive steps to protect their operations from cyber threats, searching for actionable tips and strategies.\\n6. **\"How to create engaging online courses with interactive elements\"**: Educators and trainers are looking for innovative ways to engage learners and enhance the learning experience through interactivity.\\n7. **\"The impact of social media on mental health in 2024\"**: As concerns about social media\\'s effects on mental well-being grow, people are seeking insights into how to maintain a healthy online presence.\\n8. **\"Top AI-powered tools for content creation\"**: Content creators are exploring the potential of AI-driven tools to streamline their workflows, generate new ideas, and enhance their content quality.\\n9. **\"Best ways to start a side hustle in 2024\"**: Entrepreneurs and freelancers are seeking advice on how to launch successful side hustles that complement their existing careers or provide an additional income stream.\\n10. **\"The future of work: Emerging trends in the gig economy\"**: As the gig economy continues to evolve, professionals are searching for information on the latest developments, industry trends, and opportunities in this space.\\n\\nPlease let me know if these additions meet your expectations!', type='TextMessage'), TextMessage(source='critic', models_usage=RequestUsage(prompt_tokens=1320, completion_tokens=4), content='APPROVE', type='TextMessage')], stop_reason=\"Text 'APPROVE' mentioned\")"
      ]
     },
     "execution_count": 27,
     "metadata": {},
     "output_type": "execute_result"
    }
   ],
   "source": [
    "await team.reset()  # Reset the team for a new task.\n",
    "await Console(team.run_stream(task=\"Give me top 10 web searches of the year 2023.\"))  # Stream the messages to the console."
   ]
  },
  {
   "cell_type": "markdown",
   "metadata": {},
   "source": [
    "#### Stopping and Aborting a team"
   ]
  },
  {
   "cell_type": "markdown",
   "metadata": {},
   "source": [
    "Apart from automatic termination conditions such as `TextMentionTermination` that stops the team based on the internal state of the team, you can also stop the team from outside by using the `ExternalTermination`.\\\n",
    "Calling `set()` on ExternalTermination will stop the team when the current agent’s turn is over. Thus, the team may not stop immediately. This allows the current agent to finish its turn and broadcast the final message to the team before the team stops, keeping the team’s state consistent."
   ]
  },
  {
   "cell_type": "code",
   "execution_count": 28,
   "metadata": {},
   "outputs": [],
   "source": [
    "# Create a new team with an external termination condition.\n",
    "external_termination = ExternalTermination()\n",
    "team = RoundRobinGroupChat(\n",
    "    [primary_agent, critic_agent],\n",
    "    termination_condition=external_termination | text_termination,  # Use the bitwise OR operator to combine conditions.\n",
    ")\n"
   ]
  },
  {
   "cell_type": "code",
   "execution_count": 31,
   "metadata": {},
   "outputs": [
    {
     "name": "stdout",
     "output_type": "stream",
     "text": [
      "---------- user ----------\n",
      "Write a short poem about the fall season.\n",
      "---------- primary ----------\n",
      "Here's a short poem about the fall season:\n",
      "\n",
      "As summer's warmth begins to fade,\n",
      "The trees don vibrant hues of shade,\n",
      "Golden, crimson, amber bright,\n",
      "A fleeting glimpse of nature's light.\n",
      "\n",
      "The air is crisp, the winds do blow,\n",
      "Leaving whispers of a winter's snow,\n",
      "The scent of woodsmoke fills the air,\n",
      "As earthy tones and autumn leaves are shared.\n",
      "\n",
      "The season's final dance begins,\n",
      "A whirlwind waltz of colors within,\n",
      "Nature's canvas, painted with delight,\n",
      "A final flourish before the winter's night.\n",
      "\n",
      "So let us bask in fall's warm glow,\n",
      "And cherish every moment as it grows,\n",
      "For though the seasons come and go,\n",
      "Autumn's beauty will forever glow.\n",
      "[Prompt tokens: 1319, Completion tokens: 150]\n",
      "---------- Summary ----------\n",
      "Number of messages: 2\n",
      "Finish reason: External termination requested\n",
      "Total prompt tokens: 1319\n",
      "Total completion tokens: 150\n",
      "Duration: 5.41 seconds\n"
     ]
    },
    {
     "data": {
      "text/plain": [
       "TaskResult(messages=[TextMessage(source='user', models_usage=None, content='Write a short poem about the fall season.', type='TextMessage'), TextMessage(source='primary', models_usage=RequestUsage(prompt_tokens=1319, completion_tokens=150), content=\"Here's a short poem about the fall season:\\n\\nAs summer's warmth begins to fade,\\nThe trees don vibrant hues of shade,\\nGolden, crimson, amber bright,\\nA fleeting glimpse of nature's light.\\n\\nThe air is crisp, the winds do blow,\\nLeaving whispers of a winter's snow,\\nThe scent of woodsmoke fills the air,\\nAs earthy tones and autumn leaves are shared.\\n\\nThe season's final dance begins,\\nA whirlwind waltz of colors within,\\nNature's canvas, painted with delight,\\nA final flourish before the winter's night.\\n\\nSo let us bask in fall's warm glow,\\nAnd cherish every moment as it grows,\\nFor though the seasons come and go,\\nAutumn's beauty will forever glow.\", type='TextMessage')], stop_reason='External termination requested')"
      ]
     },
     "execution_count": 31,
     "metadata": {},
     "output_type": "execute_result"
    }
   ],
   "source": [
    "# Run the team in a background task.\n",
    "run = asyncio.create_task(Console(team.run_stream(task=\"Write a short poem about the fall season.\")))\n",
    "\n",
    "# Wait for some time.\n",
    "await asyncio.sleep(0.1)\n",
    "\n",
    "# Stop the team.\n",
    "external_termination.set()\n",
    "\n",
    "# Wait for the team to finish.\n",
    "await run"
   ]
  },
  {
   "cell_type": "code",
   "execution_count": 32,
   "metadata": {},
   "outputs": [
    {
     "name": "stdout",
     "output_type": "stream",
     "text": [
      "Task was cancelled.\n"
     ]
    }
   ],
   "source": [
    "# Create a cancellation token.\n",
    "cancellation_token = CancellationToken()\n",
    "\n",
    "# Use another coroutine to run the team.\n",
    "run = asyncio.create_task(\n",
    "    team.run(\n",
    "        task=\"Translate the poem to Spanish.\",\n",
    "        cancellation_token=cancellation_token,\n",
    "    )\n",
    ")\n",
    "\n",
    "# Cancel the run.\n",
    "cancellation_token.cancel()\n",
    "\n",
    "try:\n",
    "    result = await run  # This will raise a CancelledError.\n",
    "except asyncio.CancelledError:\n",
    "    print(\"Task was cancelled.\")"
   ]
  },
  {
   "cell_type": "markdown",
   "metadata": {},
   "source": [
    "### Human-in-the-Loop"
   ]
  },
  {
   "cell_type": "markdown",
   "metadata": {},
   "source": []
  },
  {
   "cell_type": "markdown",
   "metadata": {},
   "source": []
  },
  {
   "cell_type": "markdown",
   "metadata": {},
   "source": []
  }
 ],
 "metadata": {
  "kernelspec": {
   "display_name": "autogen",
   "language": "python",
   "name": "python3"
  },
  "language_info": {
   "codemirror_mode": {
    "name": "ipython",
    "version": 3
   },
   "file_extension": ".py",
   "mimetype": "text/x-python",
   "name": "python",
   "nbconvert_exporter": "python",
   "pygments_lexer": "ipython3",
   "version": "3.10.16"
  }
 },
 "nbformat": 4,
 "nbformat_minor": 2
}
