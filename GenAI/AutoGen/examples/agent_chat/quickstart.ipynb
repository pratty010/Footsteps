{
 "cells": [
  {
   "cell_type": "code",
   "execution_count": 1,
   "metadata": {},
   "outputs": [],
   "source": [
    "from autogen_agentchat.agents import AssistantAgent\n",
    "from autogen_agentchat.teams import RoundRobinGroupChat\n",
    "from autogen_agentchat.ui import Console\n",
    "from autogen_ext.models.openai import OpenAIChatCompletionClient"
   ]
  },
  {
   "cell_type": "code",
   "execution_count": 35,
   "metadata": {},
   "outputs": [],
   "source": [
    "# Define a tool\n",
    "async def get_weather(city: str) -> str:\n",
    "    return f\"The weather in {city} is 73 degrees and Sunny.\""
   ]
  },
  {
   "cell_type": "code",
   "execution_count": 36,
   "metadata": {},
   "outputs": [],
   "source": [
    "async def main() -> None:\n",
    "    # Define an agent\n",
    "    weather_agent = AssistantAgent(\n",
    "        name=\"weather_agent\",\n",
    "        model_client=OpenAIChatCompletionClient(\n",
    "            model=\"ollama/llama3.2:3b\",\n",
    "            api_key=\"YOUR_API_KEY\",\n",
    "            base_url=\"http://0.0.0.0:4000/\",\n",
    "            model_capabilities={\n",
    "            \"json_output\": False,\n",
    "            \"vision\": False,\n",
    "            \"function_calling\": True,\n",
    "        },\n",
    "        ),\n",
    "        tools=[get_weather],\n",
    "    )\n",
    "\n",
    "    # Define a team with a single agent and maximum auto-gen turns of 1.\n",
    "    agent_team = RoundRobinGroupChat([weather_agent], max_turns=1)\n",
    "\n",
    "    while True:\n",
    "        # Get user input from the console.\n",
    "        user_input = input(\"Enter a message (type 'exit' to leave): \")\n",
    "        if user_input.strip().lower() == \"exit\":\n",
    "            break\n",
    "        # Run the team and stream messages to the console.\n",
    "        stream = agent_team.run_stream(task=user_input)\n",
    "        await Console(stream)"
   ]
  },
  {
   "cell_type": "code",
   "execution_count": 37,
   "metadata": {},
   "outputs": [
    {
     "name": "stdout",
     "output_type": "stream",
     "text": [
      "---------- user ----------\n",
      "SF\n",
      "---------- weather_agent ----------\n",
      "[FunctionCall(id='call_8f268ee1-deb6-4329-b60e-39307565f728', arguments='{\"city\": \"SF\"}', name='get_weather')]\n",
      "[Prompt tokens: 154, Completion tokens: 16]\n",
      "---------- weather_agent ----------\n",
      "[FunctionExecutionResult(content='The weather in SF is 73 degrees and Sunny.', call_id='call_8f268ee1-deb6-4329-b60e-39307565f728')]\n",
      "---------- weather_agent ----------\n",
      "The weather in SF is 73 degrees and Sunny.\n",
      "---------- Summary ----------\n",
      "Number of messages: 4\n",
      "Finish reason: Maximum number of turns 1 reached.\n",
      "Total prompt tokens: 154\n",
      "Total completion tokens: 16\n",
      "Duration: 0.52 seconds\n"
     ]
    }
   ],
   "source": [
    "await main()"
   ]
  },
  {
   "cell_type": "code",
   "execution_count": null,
   "metadata": {},
   "outputs": [],
   "source": []
  }
 ],
 "metadata": {
  "kernelspec": {
   "display_name": "autogen",
   "language": "python",
   "name": "python3"
  },
  "language_info": {
   "codemirror_mode": {
    "name": "ipython",
    "version": 3
   },
   "file_extension": ".py",
   "mimetype": "text/x-python",
   "name": "python",
   "nbconvert_exporter": "python",
   "pygments_lexer": "ipython3",
   "version": "3.10.16"
  }
 },
 "nbformat": 4,
 "nbformat_minor": 2
}
